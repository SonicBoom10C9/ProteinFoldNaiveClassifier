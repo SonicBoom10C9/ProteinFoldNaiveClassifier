{
 "cells": [
  {
   "cell_type": "code",
   "execution_count": 1,
   "id": "923df5f5",
   "metadata": {},
   "outputs": [],
   "source": [
    "import pandas as pd\n",
    "import numpy as np"
   ]
  },
  {
   "cell_type": "code",
   "execution_count": 26,
   "id": "bf7571b8",
   "metadata": {},
   "outputs": [],
   "source": [
    "from sklearn.feature_extraction.text import CountVectorizer, TfidfTransformer\n",
    "from sklearn.neighbors import KNeighborsClassifier\n",
    "from sklearn.pipeline import Pipeline\n",
    "from sklearn.model_selection import train_test_split\n",
    "from sklearn import metrics, svm, preprocessing"
   ]
  },
  {
   "cell_type": "code",
   "execution_count": 3,
   "id": "9282f09f",
   "metadata": {},
   "outputs": [],
   "source": [
    "ls1 = []\n",
    "ls2 = []\n",
    "# Create consistent Field labels\n",
    "colnames = ['Index', 'Fold', 'Label', 'Protein', 'PreVector']\n",
    "\n",
    "# Create datasets on the basis of standardised input format and column names\n",
    "ds1 = pd.read_csv('n-data.csv', names=colnames, header=None)\n",
    "ds2 = pd.read_csv('g_data.csv', names=colnames, header=None)\n",
    "\n",
    "for i in ds1['Protein']:\n",
    "    ls1.append(\" \".join(i))\n",
    "    \n",
    "for j in ds2['Protein']:\n",
    "    ls2.append(\" \".join(j))\n",
    "\n",
    "ds1['PreVector'] = ls1\n",
    "ds2['PreVector'] = ls2"
   ]
  },
  {
   "cell_type": "code",
   "execution_count": 4,
   "id": "30fa8871",
   "metadata": {},
   "outputs": [
    {
     "name": "stdout",
     "output_type": "stream",
     "text": [
      "   Index   Fold    Label                                            Protein  \\\n",
      "0      1  Fold1  >P76264  MNITATVLLAFGMSMDAFAASIGKGATLHKPKFSEALRTGLIFGAV...   \n",
      "1      1  Fold1  >P17201  MGRLNRFRLGKDGRREQASLSRRGFLVTSLGAGVMFGFARPSSANQ...   \n",
      "2      1  Fold1  >P0ABB4  MATGKIVQVIGAVVDVEFPQDAVPRVYDALEVQNGNERLVLEVQQQ...   \n",
      "3      1  Fold1  >P76169  MIKTTLLFFATALCEIIGCFLPWLWLKRNASIWLLLPAGISLALFV...   \n",
      "4      1  Fold1  >P08550  MVWIDYAIIAVIAFSSLVSLIRGFVREALSLVTWGCAFFVASHYYT...   \n",
      "\n",
      "                                           PreVector  \n",
      "0  M N I T A T V L L A F G M S M D A F A A S I G ...  \n",
      "1  M G R L N R F R L G K D G R R E Q A S L S R R ...  \n",
      "2  M A T G K I V Q V I G A V V D V E F P Q D A V ...  \n",
      "3  M I K T T L L F F A T A L C E I I G C F L P W ...  \n",
      "4  M V W I D Y A I I A V I A F S S L V S L I R G ...  \n"
     ]
    }
   ],
   "source": [
    "# Input dataset classification\n",
    "train, test = ds1, ds2\n",
    "print(train.head())"
   ]
  },
  {
   "cell_type": "code",
   "execution_count": 5,
   "id": "5f16f459",
   "metadata": {},
   "outputs": [],
   "source": [
    "# N-gram length limits - cutoff\n",
    "ngramin, ngramax = 3, 4\n",
    "holderTest = []\n",
    "# Maintain dataframe for feature extraction\n",
    "masterTest = pd.DataFrame()\n",
    "postr = []"
   ]
  },
  {
   "cell_type": "code",
   "execution_count": 6,
   "id": "edf065f6",
   "metadata": {},
   "outputs": [],
   "source": [
    "# Loop for each protein in the file\n",
    "for str in test.Protein: \n",
    "    # Resizable empty dictionary for the substring\n",
    "    multigram = dict()\n",
    "    for i in range(ngramin, ngramax):\n",
    "        # Set recursive bounds between k-i and k for permuted moving window\n",
    "        for k in range(i, len(str)):\n",
    "            word = str[k-i:k]\n",
    "            # Check for duplicates before appending\n",
    "            if(word not in postr):\n",
    "                postr.append(word)\n",
    "            # Generate pseudo-frozen sets for the dictionary\n",
    "            if(word in multigram):\n",
    "                multigram[word] += 1\n",
    "            else:\n",
    "                multigram[word] = 1\n",
    "    holderTest.append(multigram)"
   ]
  },
  {
   "cell_type": "code",
   "execution_count": 7,
   "id": "820b08c9",
   "metadata": {},
   "outputs": [],
   "source": [
    "# Reset limits for cutoff\n",
    "ngramin, ngramax = 3, 4\n",
    "# Reset substrings\n",
    "holderTrain = []\n",
    "# Secondary dataframe for training data\n",
    "masterTrain = pd.DataFrame()"
   ]
  },
  {
   "cell_type": "code",
   "execution_count": 8,
   "id": "2ed5aced",
   "metadata": {},
   "outputs": [],
   "source": [
    "# Repeat process for training data\n",
    "for str in train.Protein:\n",
    "    multigram = dict()\n",
    "    for i in range(ngramin, ngramax):\n",
    "        for k in range(i, len(str)):\n",
    "            word = str[k-i:k]\n",
    "            if(word not in postr):\n",
    "                postr.append(word)\n",
    "            if(word in multigram):\n",
    "                multigram[word] += 1\n",
    "            else:\n",
    "                multigram[word] = 1\n",
    "    holderTrain.append(multigram)"
   ]
  },
  {
   "cell_type": "code",
   "execution_count": 9,
   "id": "b05f27d0",
   "metadata": {},
   "outputs": [
    {
     "data": {
      "text/html": [
       "<div>\n",
       "<style scoped>\n",
       "    .dataframe tbody tr th:only-of-type {\n",
       "        vertical-align: middle;\n",
       "    }\n",
       "\n",
       "    .dataframe tbody tr th {\n",
       "        vertical-align: top;\n",
       "    }\n",
       "\n",
       "    .dataframe thead th {\n",
       "        text-align: right;\n",
       "    }\n",
       "</style>\n",
       "<table border=\"1\" class=\"dataframe\">\n",
       "  <thead>\n",
       "    <tr style=\"text-align: right;\">\n",
       "      <th></th>\n",
       "      <th>MSG</th>\n",
       "      <th>SGE</th>\n",
       "      <th>GEV</th>\n",
       "      <th>EVL</th>\n",
       "      <th>VLS</th>\n",
       "      <th>LSQ</th>\n",
       "      <th>SQN</th>\n",
       "      <th>QNE</th>\n",
       "      <th>NEI</th>\n",
       "      <th>EID</th>\n",
       "      <th>...</th>\n",
       "      <th>YHC</th>\n",
       "      <th>MMC</th>\n",
       "      <th>CCP</th>\n",
       "      <th>CVC</th>\n",
       "      <th>WCW</th>\n",
       "      <th>RVU</th>\n",
       "      <th>VUH</th>\n",
       "      <th>UHG</th>\n",
       "      <th>MCW</th>\n",
       "      <th>CMN</th>\n",
       "    </tr>\n",
       "  </thead>\n",
       "  <tbody>\n",
       "    <tr>\n",
       "      <th>0</th>\n",
       "      <td>1</td>\n",
       "      <td>1</td>\n",
       "      <td>1</td>\n",
       "      <td>1</td>\n",
       "      <td>1</td>\n",
       "      <td>1</td>\n",
       "      <td>1</td>\n",
       "      <td>1</td>\n",
       "      <td>1</td>\n",
       "      <td>1</td>\n",
       "      <td>...</td>\n",
       "      <td>NaN</td>\n",
       "      <td>NaN</td>\n",
       "      <td>NaN</td>\n",
       "      <td>NaN</td>\n",
       "      <td>NaN</td>\n",
       "      <td>NaN</td>\n",
       "      <td>NaN</td>\n",
       "      <td>NaN</td>\n",
       "      <td>NaN</td>\n",
       "      <td>NaN</td>\n",
       "    </tr>\n",
       "    <tr>\n",
       "      <th>0</th>\n",
       "      <td>NaN</td>\n",
       "      <td>NaN</td>\n",
       "      <td>NaN</td>\n",
       "      <td>NaN</td>\n",
       "      <td>1</td>\n",
       "      <td>NaN</td>\n",
       "      <td>NaN</td>\n",
       "      <td>NaN</td>\n",
       "      <td>NaN</td>\n",
       "      <td>NaN</td>\n",
       "      <td>...</td>\n",
       "      <td>NaN</td>\n",
       "      <td>NaN</td>\n",
       "      <td>NaN</td>\n",
       "      <td>NaN</td>\n",
       "      <td>NaN</td>\n",
       "      <td>NaN</td>\n",
       "      <td>NaN</td>\n",
       "      <td>NaN</td>\n",
       "      <td>NaN</td>\n",
       "      <td>NaN</td>\n",
       "    </tr>\n",
       "    <tr>\n",
       "      <th>0</th>\n",
       "      <td>NaN</td>\n",
       "      <td>NaN</td>\n",
       "      <td>NaN</td>\n",
       "      <td>NaN</td>\n",
       "      <td>NaN</td>\n",
       "      <td>NaN</td>\n",
       "      <td>NaN</td>\n",
       "      <td>NaN</td>\n",
       "      <td>1</td>\n",
       "      <td>NaN</td>\n",
       "      <td>...</td>\n",
       "      <td>NaN</td>\n",
       "      <td>NaN</td>\n",
       "      <td>NaN</td>\n",
       "      <td>NaN</td>\n",
       "      <td>NaN</td>\n",
       "      <td>NaN</td>\n",
       "      <td>NaN</td>\n",
       "      <td>NaN</td>\n",
       "      <td>NaN</td>\n",
       "      <td>NaN</td>\n",
       "    </tr>\n",
       "    <tr>\n",
       "      <th>0</th>\n",
       "      <td>NaN</td>\n",
       "      <td>NaN</td>\n",
       "      <td>NaN</td>\n",
       "      <td>NaN</td>\n",
       "      <td>NaN</td>\n",
       "      <td>NaN</td>\n",
       "      <td>NaN</td>\n",
       "      <td>NaN</td>\n",
       "      <td>NaN</td>\n",
       "      <td>NaN</td>\n",
       "      <td>...</td>\n",
       "      <td>NaN</td>\n",
       "      <td>NaN</td>\n",
       "      <td>NaN</td>\n",
       "      <td>NaN</td>\n",
       "      <td>NaN</td>\n",
       "      <td>NaN</td>\n",
       "      <td>NaN</td>\n",
       "      <td>NaN</td>\n",
       "      <td>NaN</td>\n",
       "      <td>NaN</td>\n",
       "    </tr>\n",
       "    <tr>\n",
       "      <th>0</th>\n",
       "      <td>NaN</td>\n",
       "      <td>NaN</td>\n",
       "      <td>NaN</td>\n",
       "      <td>NaN</td>\n",
       "      <td>1</td>\n",
       "      <td>NaN</td>\n",
       "      <td>NaN</td>\n",
       "      <td>NaN</td>\n",
       "      <td>NaN</td>\n",
       "      <td>NaN</td>\n",
       "      <td>...</td>\n",
       "      <td>NaN</td>\n",
       "      <td>NaN</td>\n",
       "      <td>NaN</td>\n",
       "      <td>NaN</td>\n",
       "      <td>NaN</td>\n",
       "      <td>NaN</td>\n",
       "      <td>NaN</td>\n",
       "      <td>NaN</td>\n",
       "      <td>NaN</td>\n",
       "      <td>NaN</td>\n",
       "    </tr>\n",
       "  </tbody>\n",
       "</table>\n",
       "<p>5 rows × 7999 columns</p>\n",
       "</div>"
      ],
      "text/plain": [
       "   MSG  SGE  GEV  EVL  VLS  LSQ  SQN  QNE  NEI  EID  ...  YHC  MMC  CCP  CVC  \\\n",
       "0    1    1    1    1    1    1    1    1    1    1  ...  NaN  NaN  NaN  NaN   \n",
       "0  NaN  NaN  NaN  NaN    1  NaN  NaN  NaN  NaN  NaN  ...  NaN  NaN  NaN  NaN   \n",
       "0  NaN  NaN  NaN  NaN  NaN  NaN  NaN  NaN    1  NaN  ...  NaN  NaN  NaN  NaN   \n",
       "0  NaN  NaN  NaN  NaN  NaN  NaN  NaN  NaN  NaN  NaN  ...  NaN  NaN  NaN  NaN   \n",
       "0  NaN  NaN  NaN  NaN    1  NaN  NaN  NaN  NaN  NaN  ...  NaN  NaN  NaN  NaN   \n",
       "\n",
       "   WCW  RVU  VUH  UHG  MCW  CMN  \n",
       "0  NaN  NaN  NaN  NaN  NaN  NaN  \n",
       "0  NaN  NaN  NaN  NaN  NaN  NaN  \n",
       "0  NaN  NaN  NaN  NaN  NaN  NaN  \n",
       "0  NaN  NaN  NaN  NaN  NaN  NaN  \n",
       "0  NaN  NaN  NaN  NaN  NaN  NaN  \n",
       "\n",
       "[5 rows x 7999 columns]"
      ]
     },
     "execution_count": 9,
     "metadata": {},
     "output_type": "execute_result"
    }
   ],
   "source": [
    "# Create full length dataframe with all aggregated features as columns\n",
    "masterTest = pd.DataFrame(columns = postr)\n",
    "# Vectorised string input read from library of test data\n",
    "for vector in holderTest:\n",
    "    # Start inserting data into dataframe as transposed eigenvalues\n",
    "    masterTest = masterTest.append(pd.DataFrame.from_dict(vector, orient='index').T)\n",
    "masterTest.head()"
   ]
  },
  {
   "cell_type": "code",
   "execution_count": 10,
   "id": "0067e452",
   "metadata": {},
   "outputs": [
    {
     "data": {
      "text/html": [
       "<div>\n",
       "<style scoped>\n",
       "    .dataframe tbody tr th:only-of-type {\n",
       "        vertical-align: middle;\n",
       "    }\n",
       "\n",
       "    .dataframe tbody tr th {\n",
       "        vertical-align: top;\n",
       "    }\n",
       "\n",
       "    .dataframe thead th {\n",
       "        text-align: right;\n",
       "    }\n",
       "</style>\n",
       "<table border=\"1\" class=\"dataframe\">\n",
       "  <thead>\n",
       "    <tr style=\"text-align: right;\">\n",
       "      <th></th>\n",
       "      <th>MSG</th>\n",
       "      <th>SGE</th>\n",
       "      <th>GEV</th>\n",
       "      <th>EVL</th>\n",
       "      <th>VLS</th>\n",
       "      <th>LSQ</th>\n",
       "      <th>SQN</th>\n",
       "      <th>QNE</th>\n",
       "      <th>NEI</th>\n",
       "      <th>EID</th>\n",
       "      <th>...</th>\n",
       "      <th>YHC</th>\n",
       "      <th>MMC</th>\n",
       "      <th>CCP</th>\n",
       "      <th>CVC</th>\n",
       "      <th>WCW</th>\n",
       "      <th>RVU</th>\n",
       "      <th>VUH</th>\n",
       "      <th>UHG</th>\n",
       "      <th>MCW</th>\n",
       "      <th>CMN</th>\n",
       "    </tr>\n",
       "  </thead>\n",
       "  <tbody>\n",
       "    <tr>\n",
       "      <th>0</th>\n",
       "      <td>NaN</td>\n",
       "      <td>NaN</td>\n",
       "      <td>NaN</td>\n",
       "      <td>NaN</td>\n",
       "      <td>NaN</td>\n",
       "      <td>NaN</td>\n",
       "      <td>NaN</td>\n",
       "      <td>NaN</td>\n",
       "      <td>NaN</td>\n",
       "      <td>NaN</td>\n",
       "      <td>...</td>\n",
       "      <td>NaN</td>\n",
       "      <td>NaN</td>\n",
       "      <td>NaN</td>\n",
       "      <td>NaN</td>\n",
       "      <td>NaN</td>\n",
       "      <td>NaN</td>\n",
       "      <td>NaN</td>\n",
       "      <td>NaN</td>\n",
       "      <td>NaN</td>\n",
       "      <td>NaN</td>\n",
       "    </tr>\n",
       "    <tr>\n",
       "      <th>0</th>\n",
       "      <td>NaN</td>\n",
       "      <td>NaN</td>\n",
       "      <td>NaN</td>\n",
       "      <td>NaN</td>\n",
       "      <td>NaN</td>\n",
       "      <td>NaN</td>\n",
       "      <td>NaN</td>\n",
       "      <td>NaN</td>\n",
       "      <td>NaN</td>\n",
       "      <td>NaN</td>\n",
       "      <td>...</td>\n",
       "      <td>NaN</td>\n",
       "      <td>NaN</td>\n",
       "      <td>NaN</td>\n",
       "      <td>NaN</td>\n",
       "      <td>NaN</td>\n",
       "      <td>NaN</td>\n",
       "      <td>NaN</td>\n",
       "      <td>NaN</td>\n",
       "      <td>NaN</td>\n",
       "      <td>NaN</td>\n",
       "    </tr>\n",
       "    <tr>\n",
       "      <th>0</th>\n",
       "      <td>NaN</td>\n",
       "      <td>NaN</td>\n",
       "      <td>NaN</td>\n",
       "      <td>NaN</td>\n",
       "      <td>1</td>\n",
       "      <td>1</td>\n",
       "      <td>NaN</td>\n",
       "      <td>NaN</td>\n",
       "      <td>NaN</td>\n",
       "      <td>NaN</td>\n",
       "      <td>...</td>\n",
       "      <td>NaN</td>\n",
       "      <td>NaN</td>\n",
       "      <td>NaN</td>\n",
       "      <td>NaN</td>\n",
       "      <td>NaN</td>\n",
       "      <td>NaN</td>\n",
       "      <td>NaN</td>\n",
       "      <td>NaN</td>\n",
       "      <td>NaN</td>\n",
       "      <td>NaN</td>\n",
       "    </tr>\n",
       "    <tr>\n",
       "      <th>0</th>\n",
       "      <td>NaN</td>\n",
       "      <td>NaN</td>\n",
       "      <td>NaN</td>\n",
       "      <td>NaN</td>\n",
       "      <td>NaN</td>\n",
       "      <td>NaN</td>\n",
       "      <td>NaN</td>\n",
       "      <td>NaN</td>\n",
       "      <td>NaN</td>\n",
       "      <td>NaN</td>\n",
       "      <td>...</td>\n",
       "      <td>NaN</td>\n",
       "      <td>NaN</td>\n",
       "      <td>NaN</td>\n",
       "      <td>NaN</td>\n",
       "      <td>NaN</td>\n",
       "      <td>NaN</td>\n",
       "      <td>NaN</td>\n",
       "      <td>NaN</td>\n",
       "      <td>NaN</td>\n",
       "      <td>NaN</td>\n",
       "    </tr>\n",
       "    <tr>\n",
       "      <th>0</th>\n",
       "      <td>NaN</td>\n",
       "      <td>NaN</td>\n",
       "      <td>NaN</td>\n",
       "      <td>NaN</td>\n",
       "      <td>NaN</td>\n",
       "      <td>NaN</td>\n",
       "      <td>NaN</td>\n",
       "      <td>NaN</td>\n",
       "      <td>NaN</td>\n",
       "      <td>NaN</td>\n",
       "      <td>...</td>\n",
       "      <td>NaN</td>\n",
       "      <td>NaN</td>\n",
       "      <td>NaN</td>\n",
       "      <td>NaN</td>\n",
       "      <td>NaN</td>\n",
       "      <td>NaN</td>\n",
       "      <td>NaN</td>\n",
       "      <td>NaN</td>\n",
       "      <td>NaN</td>\n",
       "      <td>NaN</td>\n",
       "    </tr>\n",
       "  </tbody>\n",
       "</table>\n",
       "<p>5 rows × 7999 columns</p>\n",
       "</div>"
      ],
      "text/plain": [
       "   MSG  SGE  GEV  EVL  VLS  LSQ  SQN  QNE  NEI  EID  ...  YHC  MMC  CCP  CVC  \\\n",
       "0  NaN  NaN  NaN  NaN  NaN  NaN  NaN  NaN  NaN  NaN  ...  NaN  NaN  NaN  NaN   \n",
       "0  NaN  NaN  NaN  NaN  NaN  NaN  NaN  NaN  NaN  NaN  ...  NaN  NaN  NaN  NaN   \n",
       "0  NaN  NaN  NaN  NaN    1    1  NaN  NaN  NaN  NaN  ...  NaN  NaN  NaN  NaN   \n",
       "0  NaN  NaN  NaN  NaN  NaN  NaN  NaN  NaN  NaN  NaN  ...  NaN  NaN  NaN  NaN   \n",
       "0  NaN  NaN  NaN  NaN  NaN  NaN  NaN  NaN  NaN  NaN  ...  NaN  NaN  NaN  NaN   \n",
       "\n",
       "   WCW  RVU  VUH  UHG  MCW  CMN  \n",
       "0  NaN  NaN  NaN  NaN  NaN  NaN  \n",
       "0  NaN  NaN  NaN  NaN  NaN  NaN  \n",
       "0  NaN  NaN  NaN  NaN  NaN  NaN  \n",
       "0  NaN  NaN  NaN  NaN  NaN  NaN  \n",
       "0  NaN  NaN  NaN  NaN  NaN  NaN  \n",
       "\n",
       "[5 rows x 7999 columns]"
      ]
     },
     "execution_count": 10,
     "metadata": {},
     "output_type": "execute_result"
    }
   ],
   "source": [
    "# Repeat process for training data\n",
    "masterTrain = pd.DataFrame(columns = postr)\n",
    "for vector in holderTrain:\n",
    "    masterTrain = masterTrain.append(pd.DataFrame.from_dict(vector, orient='index').T)\n",
    "masterTrain.head()"
   ]
  },
  {
   "cell_type": "code",
   "execution_count": 65,
   "id": "49e75b47",
   "metadata": {},
   "outputs": [],
   "source": [
    "# Create working datasets for preventing overwrites\n",
    "workTrain = masterTrain.copy(deep=True)\n",
    "workTest = masterTest.copy(deep=True)"
   ]
  },
  {
   "cell_type": "code",
   "execution_count": 66,
   "id": "21b37df4",
   "metadata": {},
   "outputs": [],
   "source": [
    "# Housekeeping (data preprocessing) and label join\n",
    "workTrain = workTrain.reset_index().drop('index', axis=1)\n",
    "workTrain.insert(loc=0, column = 'Label', value=train.Fold)\n",
    "workTrain = workTrain.reset_index().drop('index', axis=1).set_index('Label')"
   ]
  },
  {
   "cell_type": "code",
   "execution_count": 67,
   "id": "ff930bf2",
   "metadata": {},
   "outputs": [],
   "source": [
    "# More housekeeping\n",
    "workTest = workTest.reset_index().drop('index', axis=1)\n",
    "workTest.insert(loc=0, column = 'Label', value=test.Fold)\n",
    "workTest = workTest.reset_index().drop('index', axis=1).set_index('Label')"
   ]
  },
  {
   "cell_type": "code",
   "execution_count": 68,
   "id": "5d1784fc",
   "metadata": {},
   "outputs": [
    {
     "data": {
      "text/plain": [
       "8"
      ]
     },
     "execution_count": 68,
     "metadata": {},
     "output_type": "execute_result"
    }
   ],
   "source": [
    "# Null treatment\n",
    "workTest = workTest.fillna(0)\n",
    "workTest.reset_index().Label.nunique()\n",
    "workTrain = workTrain.fillna(0)\n",
    "workTrain.reset_index().Label.nunique()"
   ]
  },
  {
   "cell_type": "code",
   "execution_count": 69,
   "id": "3fc9bae5",
   "metadata": {},
   "outputs": [
    {
     "data": {
      "text/plain": [
       "4"
      ]
     },
     "execution_count": 69,
     "metadata": {},
     "output_type": "execute_result"
    }
   ],
   "source": [
    "# Test Labels\n",
    "workTest.reset_index().Label.nunique()"
   ]
  },
  {
   "cell_type": "markdown",
   "id": "cfe8fc9f",
   "metadata": {},
   "source": [
    "### SVM"
   ]
  },
  {
   "cell_type": "code",
   "execution_count": 70,
   "id": "4f7cb1cc",
   "metadata": {},
   "outputs": [],
   "source": [
    "from sklearn.metrics import matthews_corrcoef\n",
    "from sklearn.metrics import precision_recall_fscore_support"
   ]
  },
  {
   "cell_type": "code",
   "execution_count": 71,
   "id": "01efcf7f",
   "metadata": {},
   "outputs": [
    {
     "name": "stdout",
     "output_type": "stream",
     "text": [
      "Accuracy: 0.627151051625239\n"
     ]
    }
   ],
   "source": [
    "# Use real data this time instead of train-test split\n",
    "X_train, X_test = workTrain.reset_index().drop('Label', axis=1), workTest.reset_index().drop('Label', axis=1)\n",
    "y_train, y_test = workTrain.reset_index().Label, workTest.reset_index().Label\n",
    "\n",
    "# Create an SVM Classifier instance\n",
    "clf = svm.SVC(kernel='linear') # Linear Kernel\n",
    "\n",
    "# Train the model using the instantiated datasets\n",
    "clf.fit(X_train, y_train)\n",
    "\n",
    "# Predict the response for test dataset\n",
    "y_pred = clf.predict(X_test)\n",
    "print(\"Accuracy:\", metrics.accuracy_score(y_test, y_pred))"
   ]
  },
  {
   "cell_type": "code",
   "execution_count": 75,
   "id": "851eb72f",
   "metadata": {},
   "outputs": [
    {
     "data": {
      "text/html": [
       "<div>\n",
       "<style scoped>\n",
       "    .dataframe tbody tr th:only-of-type {\n",
       "        vertical-align: middle;\n",
       "    }\n",
       "\n",
       "    .dataframe tbody tr th {\n",
       "        vertical-align: top;\n",
       "    }\n",
       "\n",
       "    .dataframe thead th {\n",
       "        text-align: right;\n",
       "    }\n",
       "</style>\n",
       "<table border=\"1\" class=\"dataframe\">\n",
       "  <thead>\n",
       "    <tr style=\"text-align: right;\">\n",
       "      <th></th>\n",
       "      <th>class</th>\n",
       "      <th>sensitivity</th>\n",
       "      <th>specificity</th>\n",
       "    </tr>\n",
       "  </thead>\n",
       "  <tbody>\n",
       "    <tr>\n",
       "      <th>0</th>\n",
       "      <td>0</td>\n",
       "      <td>0.819549</td>\n",
       "      <td>0.205882</td>\n",
       "    </tr>\n",
       "    <tr>\n",
       "      <th>1</th>\n",
       "      <td>1</td>\n",
       "      <td>0.819549</td>\n",
       "      <td>0.205882</td>\n",
       "    </tr>\n",
       "    <tr>\n",
       "      <th>2</th>\n",
       "      <td>2</td>\n",
       "      <td>0.819549</td>\n",
       "      <td>0.205882</td>\n",
       "    </tr>\n",
       "    <tr>\n",
       "      <th>3</th>\n",
       "      <td>3</td>\n",
       "      <td>0.819549</td>\n",
       "      <td>0.205882</td>\n",
       "    </tr>\n",
       "  </tbody>\n",
       "</table>\n",
       "</div>"
      ],
      "text/plain": [
       "   class  sensitivity  specificity\n",
       "0      0     0.819549     0.205882\n",
       "1      1     0.819549     0.205882\n",
       "2      2     0.819549     0.205882\n",
       "3      3     0.819549     0.205882"
      ]
     },
     "execution_count": 75,
     "metadata": {},
     "output_type": "execute_result"
    }
   ],
   "source": [
    "res = []\n",
    "for l in [0,1,2,3]:\n",
    "     prec, recall, _, _ = precision_recall_fscore_support(y_pred, y_test, pos_label=True, average=None, zero_division=0)\n",
    "     res.append([l, recall[0], recall[1]])\n",
    "\n",
    "pd.DataFrame(res,columns = ['class','sensitivity','specificity'])"
   ]
  },
  {
   "cell_type": "code",
   "execution_count": 76,
   "id": "ec7c7597",
   "metadata": {},
   "outputs": [
    {
     "data": {
      "text/plain": [
       "0.47989508271555675"
      ]
     },
     "execution_count": 76,
     "metadata": {},
     "output_type": "execute_result"
    }
   ],
   "source": [
    "matthews_corrcoef(y_pred, y_test)"
   ]
  },
  {
   "cell_type": "code",
   "execution_count": 77,
   "id": "cd0207ae",
   "metadata": {},
   "outputs": [
    {
     "name": "stdout",
     "output_type": "stream",
     "text": [
      "Accuracy: 0.5869980879541109\n"
     ]
    }
   ],
   "source": [
    "X_train, X_test = workTrain.reset_index().drop('Label', axis=1), workTest.reset_index().drop('Label', axis=1)\n",
    "y_train, y_test = workTrain.reset_index().Label, workTest.reset_index().Label\n",
    "\n",
    "# Radial Basis function Kernel\n",
    "clf = svm.SVC(kernel='rbf')\n",
    "\n",
    "clf.fit(X_train, y_train)\n",
    "\n",
    "y_pred = clf.predict(X_test)\n",
    "print(\"Accuracy:\", metrics.accuracy_score(y_test, y_pred))"
   ]
  },
  {
   "cell_type": "code",
   "execution_count": 78,
   "id": "f82f2631",
   "metadata": {},
   "outputs": [
    {
     "data": {
      "text/html": [
       "<div>\n",
       "<style scoped>\n",
       "    .dataframe tbody tr th:only-of-type {\n",
       "        vertical-align: middle;\n",
       "    }\n",
       "\n",
       "    .dataframe tbody tr th {\n",
       "        vertical-align: top;\n",
       "    }\n",
       "\n",
       "    .dataframe thead th {\n",
       "        text-align: right;\n",
       "    }\n",
       "</style>\n",
       "<table border=\"1\" class=\"dataframe\">\n",
       "  <thead>\n",
       "    <tr style=\"text-align: right;\">\n",
       "      <th></th>\n",
       "      <th>class</th>\n",
       "      <th>sensitivity</th>\n",
       "      <th>specificity</th>\n",
       "    </tr>\n",
       "  </thead>\n",
       "  <tbody>\n",
       "    <tr>\n",
       "      <th>0</th>\n",
       "      <td>0</td>\n",
       "      <td>0.923077</td>\n",
       "      <td>0.0</td>\n",
       "    </tr>\n",
       "    <tr>\n",
       "      <th>1</th>\n",
       "      <td>1</td>\n",
       "      <td>0.923077</td>\n",
       "      <td>0.0</td>\n",
       "    </tr>\n",
       "    <tr>\n",
       "      <th>2</th>\n",
       "      <td>2</td>\n",
       "      <td>0.923077</td>\n",
       "      <td>0.0</td>\n",
       "    </tr>\n",
       "    <tr>\n",
       "      <th>3</th>\n",
       "      <td>3</td>\n",
       "      <td>0.923077</td>\n",
       "      <td>0.0</td>\n",
       "    </tr>\n",
       "  </tbody>\n",
       "</table>\n",
       "</div>"
      ],
      "text/plain": [
       "   class  sensitivity  specificity\n",
       "0      0     0.923077          0.0\n",
       "1      1     0.923077          0.0\n",
       "2      2     0.923077          0.0\n",
       "3      3     0.923077          0.0"
      ]
     },
     "execution_count": 78,
     "metadata": {},
     "output_type": "execute_result"
    }
   ],
   "source": [
    "res = []\n",
    "for l in [0,1,2,3]:\n",
    "     prec, recall, _, _ = precision_recall_fscore_support(y_pred, y_test, pos_label=True, average=None, zero_division=0)\n",
    "     res.append([l, recall[0], recall[1]])\n",
    "\n",
    "pd.DataFrame(res,columns = ['class','sensitivity','specificity'])"
   ]
  },
  {
   "cell_type": "code",
   "execution_count": 79,
   "id": "56c24e58",
   "metadata": {},
   "outputs": [
    {
     "data": {
      "text/plain": [
       "0.4234807060008344"
      ]
     },
     "execution_count": 79,
     "metadata": {},
     "output_type": "execute_result"
    }
   ],
   "source": [
    "matthews_corrcoef(y_pred, y_test)"
   ]
  },
  {
   "cell_type": "code",
   "execution_count": 80,
   "id": "54bd4738",
   "metadata": {},
   "outputs": [
    {
     "name": "stdout",
     "output_type": "stream",
     "text": [
      "Accuracy: 0.621414913957935\n"
     ]
    }
   ],
   "source": [
    "X_train, X_test = workTrain.reset_index().drop('Label', axis=1), workTest.reset_index().drop('Label', axis=1)\n",
    "y_train, y_test = workTrain.reset_index().Label, workTest.reset_index().Label\n",
    "\n",
    "# Sigmoid Kernel\n",
    "clf = svm.SVC(kernel='sigmoid')\n",
    "\n",
    "clf.fit(X_train, y_train)\n",
    "\n",
    "y_pred = clf.predict(X_test)\n",
    "print(\"Accuracy:\", metrics.accuracy_score(y_test, y_pred))"
   ]
  },
  {
   "cell_type": "code",
   "execution_count": 81,
   "id": "0588fa9c",
   "metadata": {},
   "outputs": [
    {
     "data": {
      "text/html": [
       "<div>\n",
       "<style scoped>\n",
       "    .dataframe tbody tr th:only-of-type {\n",
       "        vertical-align: middle;\n",
       "    }\n",
       "\n",
       "    .dataframe tbody tr th {\n",
       "        vertical-align: top;\n",
       "    }\n",
       "\n",
       "    .dataframe thead th {\n",
       "        text-align: right;\n",
       "    }\n",
       "</style>\n",
       "<table border=\"1\" class=\"dataframe\">\n",
       "  <thead>\n",
       "    <tr style=\"text-align: right;\">\n",
       "      <th></th>\n",
       "      <th>class</th>\n",
       "      <th>sensitivity</th>\n",
       "      <th>specificity</th>\n",
       "    </tr>\n",
       "  </thead>\n",
       "  <tbody>\n",
       "    <tr>\n",
       "      <th>0</th>\n",
       "      <td>0</td>\n",
       "      <td>0.912281</td>\n",
       "      <td>0.2</td>\n",
       "    </tr>\n",
       "    <tr>\n",
       "      <th>1</th>\n",
       "      <td>1</td>\n",
       "      <td>0.912281</td>\n",
       "      <td>0.2</td>\n",
       "    </tr>\n",
       "    <tr>\n",
       "      <th>2</th>\n",
       "      <td>2</td>\n",
       "      <td>0.912281</td>\n",
       "      <td>0.2</td>\n",
       "    </tr>\n",
       "    <tr>\n",
       "      <th>3</th>\n",
       "      <td>3</td>\n",
       "      <td>0.912281</td>\n",
       "      <td>0.2</td>\n",
       "    </tr>\n",
       "  </tbody>\n",
       "</table>\n",
       "</div>"
      ],
      "text/plain": [
       "   class  sensitivity  specificity\n",
       "0      0     0.912281          0.2\n",
       "1      1     0.912281          0.2\n",
       "2      2     0.912281          0.2\n",
       "3      3     0.912281          0.2"
      ]
     },
     "execution_count": 81,
     "metadata": {},
     "output_type": "execute_result"
    }
   ],
   "source": [
    "res = []\n",
    "for l in [0,1,2,3]:\n",
    "     prec, recall, _, _ = precision_recall_fscore_support(y_pred, y_test, pos_label=True, average=None, zero_division=0)\n",
    "     res.append([l, recall[0], recall[1]])\n",
    "\n",
    "pd.DataFrame(res,columns = ['class','sensitivity','specificity'])"
   ]
  },
  {
   "cell_type": "code",
   "execution_count": 82,
   "id": "ac8ecbd0",
   "metadata": {},
   "outputs": [
    {
     "data": {
      "text/plain": [
       "0.46501909255047874"
      ]
     },
     "execution_count": 82,
     "metadata": {},
     "output_type": "execute_result"
    }
   ],
   "source": [
    "matthews_corrcoef(y_pred, y_test)"
   ]
  },
  {
   "cell_type": "code",
   "execution_count": 83,
   "id": "179b90b4",
   "metadata": {},
   "outputs": [
    {
     "name": "stdout",
     "output_type": "stream",
     "text": [
      "Accuracy: 0.34608030592734224\n"
     ]
    }
   ],
   "source": [
    "X_train, X_test = workTrain.reset_index().drop('Label', axis=1), workTest.reset_index().drop('Label', axis=1)\n",
    "y_train, y_test = workTrain.reset_index().Label, workTest.reset_index().Label\n",
    "\n",
    "# Polynomial Kernel\n",
    "clf = svm.SVC(kernel='poly')\n",
    "\n",
    "clf.fit(X_train, y_train)\n",
    "\n",
    "y_pred = clf.predict(X_test)\n",
    "print(\"Accuracy:\", metrics.accuracy_score(y_test, y_pred))"
   ]
  },
  {
   "cell_type": "code",
   "execution_count": 84,
   "id": "72cbf6f7",
   "metadata": {},
   "outputs": [
    {
     "data": {
      "text/html": [
       "<div>\n",
       "<style scoped>\n",
       "    .dataframe tbody tr th:only-of-type {\n",
       "        vertical-align: middle;\n",
       "    }\n",
       "\n",
       "    .dataframe tbody tr th {\n",
       "        vertical-align: top;\n",
       "    }\n",
       "\n",
       "    .dataframe thead th {\n",
       "        text-align: right;\n",
       "    }\n",
       "</style>\n",
       "<table border=\"1\" class=\"dataframe\">\n",
       "  <thead>\n",
       "    <tr style=\"text-align: right;\">\n",
       "      <th></th>\n",
       "      <th>class</th>\n",
       "      <th>sensitivity</th>\n",
       "      <th>specificity</th>\n",
       "    </tr>\n",
       "  </thead>\n",
       "  <tbody>\n",
       "    <tr>\n",
       "      <th>0</th>\n",
       "      <td>0</td>\n",
       "      <td>0.341365</td>\n",
       "      <td>0.0</td>\n",
       "    </tr>\n",
       "    <tr>\n",
       "      <th>1</th>\n",
       "      <td>1</td>\n",
       "      <td>0.341365</td>\n",
       "      <td>0.0</td>\n",
       "    </tr>\n",
       "    <tr>\n",
       "      <th>2</th>\n",
       "      <td>2</td>\n",
       "      <td>0.341365</td>\n",
       "      <td>0.0</td>\n",
       "    </tr>\n",
       "    <tr>\n",
       "      <th>3</th>\n",
       "      <td>3</td>\n",
       "      <td>0.341365</td>\n",
       "      <td>0.0</td>\n",
       "    </tr>\n",
       "  </tbody>\n",
       "</table>\n",
       "</div>"
      ],
      "text/plain": [
       "   class  sensitivity  specificity\n",
       "0      0     0.341365          0.0\n",
       "1      1     0.341365          0.0\n",
       "2      2     0.341365          0.0\n",
       "3      3     0.341365          0.0"
      ]
     },
     "execution_count": 84,
     "metadata": {},
     "output_type": "execute_result"
    }
   ],
   "source": [
    "res = []\n",
    "for l in [0,1,2,3]:\n",
    "     prec, recall, _, _ = precision_recall_fscore_support(y_pred, y_test, pos_label=True, average=None, zero_division=0)\n",
    "     res.append([l, recall[0], recall[1]])\n",
    "\n",
    "pd.DataFrame(res,columns = ['class','sensitivity','specificity'])"
   ]
  },
  {
   "cell_type": "code",
   "execution_count": 86,
   "id": "235f1170",
   "metadata": {},
   "outputs": [
    {
     "data": {
      "text/plain": [
       "0.060170738855724416"
      ]
     },
     "execution_count": 86,
     "metadata": {},
     "output_type": "execute_result"
    }
   ],
   "source": [
    "matthews_corrcoef(y_pred, y_test)"
   ]
  },
  {
   "cell_type": "code",
   "execution_count": null,
   "id": "1e9625f6",
   "metadata": {},
   "outputs": [],
   "source": [
    "# Dump buffers for future reference\n",
    "workTrain.to_csv('FinalisedTrain.csv')\n",
    "workTest.to_csv('FinalisedTest.csv')"
   ]
  }
 ],
 "metadata": {
  "kernelspec": {
   "display_name": "Python 3 (ipykernel)",
   "language": "python",
   "name": "python3"
  },
  "language_info": {
   "codemirror_mode": {
    "name": "ipython",
    "version": 3
   },
   "file_extension": ".py",
   "mimetype": "text/x-python",
   "name": "python",
   "nbconvert_exporter": "python",
   "pygments_lexer": "ipython3",
   "version": "3.9.7"
  }
 },
 "nbformat": 4,
 "nbformat_minor": 5
}
